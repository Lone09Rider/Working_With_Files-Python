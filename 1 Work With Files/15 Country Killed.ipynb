{
 "cells": [
  {
   "cell_type": "code",
   "execution_count": 1,
   "id": "ba4d2a0e",
   "metadata": {},
   "outputs": [],
   "source": [
    "import csv"
   ]
  },
  {
   "cell_type": "code",
   "execution_count": 2,
   "id": "b08c7910",
   "metadata": {},
   "outputs": [],
   "source": [
    "with open(\"year2017.csv\") as file_obj:\n",
    "    file_data = csv.DictReader(file_obj, skipinitialspace=True)\n",
    "    file_list = list(file_data)"
   ]
  },
  {
   "cell_type": "code",
   "execution_count": 3,
   "id": "66a6dbdb",
   "metadata": {},
   "outputs": [],
   "source": [
    "country_killed = {}"
   ]
  },
  {
   "cell_type": "code",
   "execution_count": 4,
   "id": "9214f8d3",
   "metadata": {},
   "outputs": [],
   "source": [
    "for row in file_list:\n",
    "    key = row[\"Country\"]\n",
    "    value = row[\"Killed\"]\n",
    "\n",
    "    country_killed[key] = value"
   ]
  },
  {
   "cell_type": "code",
   "execution_count": 5,
   "id": "d94c30c5",
   "metadata": {},
   "outputs": [
    {
     "data": {
      "text/plain": [
       "{'Afghanistan': '0.0',\n",
       " 'Sudan': '2.0',\n",
       " 'Democratic Republic of the Congo': '7.0',\n",
       " 'Turkey': '0.0',\n",
       " 'Syria': '2.0',\n",
       " 'Pakistan': '0.0',\n",
       " 'Italy': '0.0',\n",
       " 'Somalia': '1.0',\n",
       " 'Yemen': '0.0',\n",
       " 'Bahrain': '0.0',\n",
       " 'Myanmar': '0.0',\n",
       " 'Burundi': '0.0',\n",
       " 'Iraq': '13.0',\n",
       " 'Egypt': '2.0',\n",
       " 'Burkina Faso': '1.0',\n",
       " 'India': '0.0',\n",
       " 'Algeria': '4.0',\n",
       " 'United States': '1.0',\n",
       " 'Philippines': '0.0',\n",
       " 'Greece': '0.0',\n",
       " 'Mali': '3.0',\n",
       " 'Libya': '0.0',\n",
       " 'Central African Republic': '1.0',\n",
       " 'Nigeria': '',\n",
       " 'Lebanon': '0.0',\n",
       " 'Mexico': '1.0',\n",
       " 'Cameroon': '2.0',\n",
       " 'Ethiopia': '1.0',\n",
       " 'Kyrgyzstan': '0.0',\n",
       " 'Serbia': '0.0',\n",
       " 'Sweden': '0.0',\n",
       " 'Thailand': '0.0',\n",
       " 'Iran': '2.0',\n",
       " 'France': '0.0',\n",
       " 'United Kingdom': '0.0',\n",
       " 'West Bank and Gaza Strip': '0.0',\n",
       " 'Ukraine': '0.0',\n",
       " 'Paraguay': '0.0',\n",
       " 'Colombia': '1.0',\n",
       " 'Malaysia': '0.0',\n",
       " 'Russia': '0.0',\n",
       " 'Kosovo': '0.0',\n",
       " 'South Africa': '1.0',\n",
       " 'Chile': '0.0',\n",
       " 'Kenya': '0.0',\n",
       " 'Israel': '0.0',\n",
       " 'Saudi Arabia': '0.0',\n",
       " 'China': '0.0',\n",
       " 'Nepal': '0.0',\n",
       " 'Ecuador': '0.0',\n",
       " 'Niger': '13.0',\n",
       " 'Venezuela': '0.0',\n",
       " 'South Sudan': '15.0',\n",
       " 'Canada': '0.0',\n",
       " 'Bangladesh': '0.0',\n",
       " 'Tajikistan': '1.0',\n",
       " 'Angola': '0.0',\n",
       " 'Ireland': '0.0',\n",
       " 'Peru': '3.0',\n",
       " 'Dominican Republic': '2.0',\n",
       " 'Poland': '0.0',\n",
       " 'Jordan': '0.0',\n",
       " 'Azerbaijan': '0.0',\n",
       " 'Mozambique': '1.0',\n",
       " 'Indonesia': '1.0',\n",
       " 'Germany': '0.0',\n",
       " 'Brazil': '0.0',\n",
       " 'Macedonia': '0.0',\n",
       " 'Tunisia': '1.0',\n",
       " 'Uganda': '1.0',\n",
       " 'Chad': '12.0',\n",
       " 'Finland': '2.0',\n",
       " 'Australia': '1.0',\n",
       " 'Norway': '0.0',\n",
       " 'Vietnam': '0.0',\n",
       " 'Tanzania': '',\n",
       " 'Sierra Leone': '0.0',\n",
       " 'Sri Lanka': '0.0',\n",
       " 'Maldives': '0.0',\n",
       " 'Belgium': '1.0',\n",
       " 'Rwanda': '1.0',\n",
       " 'Honduras': '2.0',\n",
       " 'Czech Republic': '0.0',\n",
       " 'Malta': '1.0',\n",
       " 'Gabon': '0.0',\n",
       " 'Laos': '1.0',\n",
       " 'Djibouti': '',\n",
       " 'Austria': '2.0',\n",
       " 'Zambia': '0.0',\n",
       " 'Argentina': '0.0',\n",
       " 'Papua New Guinea': '0.0',\n",
       " 'Zimbabwe': '0.0',\n",
       " 'Ivory Coast': '0.0',\n",
       " 'Spain': '6.0',\n",
       " 'Taiwan': '0.0',\n",
       " 'Jamaica': '0.0',\n",
       " 'Albania': '0.0',\n",
       " 'Liberia': '0.0',\n",
       " 'Georgia': '0.0',\n",
       " 'Malawi': '0.0',\n",
       " 'Netherlands': '0.0',\n",
       " 'Latvia': '0.0'}"
      ]
     },
     "execution_count": 5,
     "metadata": {},
     "output_type": "execute_result"
    }
   ],
   "source": [
    "country_killed"
   ]
  },
  {
   "cell_type": "code",
   "execution_count": null,
   "id": "0a33f06d",
   "metadata": {},
   "outputs": [],
   "source": []
  }
 ],
 "metadata": {
  "kernelspec": {
   "display_name": "Python 3 (ipykernel)",
   "language": "python",
   "name": "python3"
  },
  "language_info": {
   "codemirror_mode": {
    "name": "ipython",
    "version": 3
   },
   "file_extension": ".py",
   "mimetype": "text/x-python",
   "name": "python",
   "nbconvert_exporter": "python",
   "pygments_lexer": "ipython3",
   "version": "3.9.7"
  }
 },
 "nbformat": 4,
 "nbformat_minor": 5
}
