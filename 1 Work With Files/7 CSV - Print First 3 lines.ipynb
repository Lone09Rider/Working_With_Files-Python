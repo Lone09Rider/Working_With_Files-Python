{
 "cells": [
  {
   "cell_type": "code",
   "execution_count": 1,
   "id": "cf574203",
   "metadata": {},
   "outputs": [],
   "source": [
    "import csv"
   ]
  },
  {
   "cell_type": "code",
   "execution_count": 2,
   "id": "9aa708ce",
   "metadata": {},
   "outputs": [],
   "source": [
    "with open(\"year2017.csv\") as file_data:\n",
    "    data = list(csv.reader(file_data))"
   ]
  },
  {
   "cell_type": "code",
   "execution_count": 3,
   "id": "b9b3314d",
   "metadata": {},
   "outputs": [
    {
     "data": {
      "text/plain": [
       "[['Year',\n",
       "  'Month',\n",
       "  'Day',\n",
       "  'Country',\n",
       "  'Region',\n",
       "  'city',\n",
       "  'latitude',\n",
       "  'longitude',\n",
       "  'AttackType',\n",
       "  'Killed',\n",
       "  'Wounded',\n",
       "  'Target',\n",
       "  'Group',\n",
       "  'Target_type',\n",
       "  'Weapon_type',\n",
       "  'casualities'],\n",
       " ['2017',\n",
       "  '1',\n",
       "  '2',\n",
       "  'Afghanistan',\n",
       "  'South Asia',\n",
       "  'Takhta Pul',\n",
       "  '31.320556',\n",
       "  '65.961111',\n",
       "  'Hostage Taking (Kidnapping)',\n",
       "  '0.0',\n",
       "  '0.0',\n",
       "  'Construction Workers',\n",
       "  'Taliban',\n",
       "  'Business',\n",
       "  'Firearms',\n",
       "  '0.0'],\n",
       " ['2017',\n",
       "  '1',\n",
       "  '3',\n",
       "  'Sudan',\n",
       "  'Sub-Saharan Africa',\n",
       "  'Fantaga',\n",
       "  '12.921007000000001',\n",
       "  '24.318324',\n",
       "  'Armed Assault',\n",
       "  '2.0',\n",
       "  '0.0',\n",
       "  'Civilians: Haroun Yousif, Hamid Ibrahim',\n",
       "  'Unknown',\n",
       "  'Private Citizens & Property',\n",
       "  'Firearms',\n",
       "  '2.0']]"
      ]
     },
     "execution_count": 3,
     "metadata": {},
     "output_type": "execute_result"
    }
   ],
   "source": [
    "data[:3]"
   ]
  },
  {
   "cell_type": "code",
   "execution_count": null,
   "id": "07e18620",
   "metadata": {},
   "outputs": [],
   "source": []
  }
 ],
 "metadata": {
  "kernelspec": {
   "display_name": "Python 3 (ipykernel)",
   "language": "python",
   "name": "python3"
  },
  "language_info": {
   "codemirror_mode": {
    "name": "ipython",
    "version": 3
   },
   "file_extension": ".py",
   "mimetype": "text/x-python",
   "name": "python",
   "nbconvert_exporter": "python",
   "pygments_lexer": "ipython3",
   "version": "3.9.7"
  }
 },
 "nbformat": 4,
 "nbformat_minor": 5
}
