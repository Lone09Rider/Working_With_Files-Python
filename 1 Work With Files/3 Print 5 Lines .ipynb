{
 "cells": [
  {
   "cell_type": "code",
   "execution_count": 1,
   "id": "60a7c05b",
   "metadata": {},
   "outputs": [],
   "source": [
    "text = open(\"Random1.txt\", \"r+\")"
   ]
  },
  {
   "cell_type": "code",
   "execution_count": 2,
   "id": "60f3773c",
   "metadata": {},
   "outputs": [
    {
     "name": "stdout",
     "output_type": "stream",
     "text": [
      "Lorem ipsum dolor sit amet, consectetur adipiscing elit. \n",
      "\n",
      "Vivamus condimentum sagittis lacus, laoreet luctus ligula laoreet ut.\n",
      "\n",
      "Vestibulum ullamcorper accumsan velit vel vehicula. \n",
      "\n",
      "Proin tempor lacus arcu. \n",
      "\n",
      "Nunc at elit condimentum, semper nisi et, condimentum mi. \n",
      "\n"
     ]
    }
   ],
   "source": [
    "# Basic :\n",
    "print(text.readline())\n",
    "print(text.readline())\n",
    "print(text.readline())\n",
    "print(text.readline())\n",
    "print(text.readline())"
   ]
  },
  {
   "cell_type": "code",
   "execution_count": 3,
   "id": "1a1a6957",
   "metadata": {},
   "outputs": [
    {
     "name": "stdout",
     "output_type": "stream",
     "text": [
      "Lorem ipsum dolor sit amet, consectetur adipiscing elit. \n",
      "\n",
      "Vivamus condimentum sagittis lacus, laoreet luctus ligula laoreet ut.\n",
      "\n",
      "Vestibulum ullamcorper accumsan velit vel vehicula. \n",
      "\n",
      "Proin tempor lacus arcu. \n",
      "\n",
      "Nunc at elit condimentum, semper nisi et, condimentum mi. \n",
      "\n"
     ]
    }
   ],
   "source": [
    "with open(\"Random1.txt\") as r:\n",
    "    for i in range(5):\n",
    "        print(r.readline())"
   ]
  },
  {
   "cell_type": "code",
   "execution_count": 4,
   "id": "7ed70463",
   "metadata": {},
   "outputs": [
    {
     "name": "stdout",
     "output_type": "stream",
     "text": [
      "['Lorem ipsum dolor sit amet, consectetur adipiscing elit. \\n', 'Vivamus condimentum sagittis lacus, laoreet luctus ligula laoreet ut.\\n', 'Vestibulum ullamcorper accumsan velit vel vehicula. \\n', 'Proin tempor lacus arcu. \\n', 'Nunc at elit condimentum, semper nisi et, condimentum mi. \\n']\n"
     ]
    }
   ],
   "source": [
    "with open(\"Random1.txt\") as r:\n",
    "    new_text = r.readlines()\n",
    "\n",
    "print(new_text[:5])"
   ]
  },
  {
   "cell_type": "code",
   "execution_count": null,
   "id": "fc390875",
   "metadata": {},
   "outputs": [],
   "source": []
  }
 ],
 "metadata": {
  "kernelspec": {
   "display_name": "Python 3 (ipykernel)",
   "language": "python",
   "name": "python3"
  },
  "language_info": {
   "codemirror_mode": {
    "name": "ipython",
    "version": 3
   },
   "file_extension": ".py",
   "mimetype": "text/x-python",
   "name": "python",
   "nbconvert_exporter": "python",
   "pygments_lexer": "ipython3",
   "version": "3.9.7"
  }
 },
 "nbformat": 4,
 "nbformat_minor": 5
}
