{
 "cells": [
  {
   "cell_type": "code",
   "execution_count": 1,
   "id": "73ca35f6",
   "metadata": {},
   "outputs": [],
   "source": [
    "import csv"
   ]
  },
  {
   "cell_type": "code",
   "execution_count": 4,
   "id": "2d2846bf",
   "metadata": {},
   "outputs": [
    {
     "name": "stdout",
     "output_type": "stream",
     "text": [
      "['1,2,3,4']\n",
      "['A,B,C,D']\n",
      "['A,B,C,D']\n",
      "['A,B,C,D']\n",
      "['A,B,C,D']\n",
      "['A,B,C,D']\n"
     ]
    }
   ],
   "source": [
    "with open(\"Sample.csv\") as file_obj:\n",
    "    file_data = csv.reader(file_obj, delimiter = \"|\", skipinitialspace = True)\n",
    "    \n",
    "    for row in file_data:\n",
    "        print(row)"
   ]
  },
  {
   "cell_type": "code",
   "execution_count": null,
   "id": "2471cb9c",
   "metadata": {},
   "outputs": [],
   "source": []
  }
 ],
 "metadata": {
  "kernelspec": {
   "display_name": "Python 3 (ipykernel)",
   "language": "python",
   "name": "python3"
  },
  "language_info": {
   "codemirror_mode": {
    "name": "ipython",
    "version": 3
   },
   "file_extension": ".py",
   "mimetype": "text/x-python",
   "name": "python",
   "nbconvert_exporter": "python",
   "pygments_lexer": "ipython3",
   "version": "3.9.7"
  }
 },
 "nbformat": 4,
 "nbformat_minor": 5
}
