{
 "cells": [
  {
   "cell_type": "code",
   "execution_count": 1,
   "id": "7ec1f1ad",
   "metadata": {},
   "outputs": [],
   "source": [
    "import csv"
   ]
  },
  {
   "cell_type": "code",
   "execution_count": 2,
   "id": "fbc6d3e8",
   "metadata": {},
   "outputs": [],
   "source": [
    "with open(\"year2017.csv\") as file_obj:\n",
    "    data = list(csv.reader(file_obj))"
   ]
  },
  {
   "cell_type": "code",
   "execution_count": 3,
   "id": "be89b390",
   "metadata": {},
   "outputs": [
    {
     "data": {
      "text/plain": [
       "['Year',\n",
       " 'Month',\n",
       " 'Day',\n",
       " 'Country',\n",
       " 'Region',\n",
       " 'city',\n",
       " 'latitude',\n",
       " 'longitude',\n",
       " 'AttackType',\n",
       " 'Killed',\n",
       " 'Wounded',\n",
       " 'Target',\n",
       " 'Group',\n",
       " 'Target_type',\n",
       " 'Weapon_type',\n",
       " 'casualities']"
      ]
     },
     "execution_count": 3,
     "metadata": {},
     "output_type": "execute_result"
    }
   ],
   "source": [
    "data[0]"
   ]
  },
  {
   "cell_type": "code",
   "execution_count": 4,
   "id": "1689b026",
   "metadata": {},
   "outputs": [],
   "source": [
    "with open(\"year2017.csv\") as file_obj:\n",
    "    data = list(csv.DictReader(file_obj))\n",
    "\n",
    "month_killed = {}\n",
    "for row in data:\n",
    "    key = row[\"Month\"]\n",
    "    value = row[\"Killed\"]\n",
    "    \n",
    "    if value != \"\":\n",
    "        value = int(float(value))\n",
    "    else:\n",
    "        value = 0\n",
    "    \n",
    "    if key in month_killed:\n",
    "        month_killed[key] += value\n",
    "    else:\n",
    "        month_killed[key] = value"
   ]
  },
  {
   "cell_type": "code",
   "execution_count": 5,
   "id": "f06d61bd",
   "metadata": {},
   "outputs": [
    {
     "data": {
      "text/plain": [
       "{'1': 2275,\n",
       " '2': 2027,\n",
       " '3': 2463,\n",
       " '4': 2142,\n",
       " '5': 2936,\n",
       " '6': 2506,\n",
       " '7': 2228,\n",
       " '8': 2145,\n",
       " '9': 1764,\n",
       " '10': 2580,\n",
       " '11': 2014,\n",
       " '12': 1365}"
      ]
     },
     "execution_count": 5,
     "metadata": {},
     "output_type": "execute_result"
    }
   ],
   "source": [
    "month_killed"
   ]
  },
  {
   "cell_type": "code",
   "execution_count": null,
   "id": "5fb8afe7",
   "metadata": {},
   "outputs": [],
   "source": []
  }
 ],
 "metadata": {
  "kernelspec": {
   "display_name": "Python 3 (ipykernel)",
   "language": "python",
   "name": "python3"
  },
  "language_info": {
   "codemirror_mode": {
    "name": "ipython",
    "version": 3
   },
   "file_extension": ".py",
   "mimetype": "text/x-python",
   "name": "python",
   "nbconvert_exporter": "python",
   "pygments_lexer": "ipython3",
   "version": "3.9.7"
  }
 },
 "nbformat": 4,
 "nbformat_minor": 5
}
