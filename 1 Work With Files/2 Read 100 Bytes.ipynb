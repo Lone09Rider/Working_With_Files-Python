{
 "cells": [
  {
   "cell_type": "code",
   "execution_count": 1,
   "id": "226f7f56",
   "metadata": {},
   "outputs": [],
   "source": [
    "text = open(\"Random.txt\", \"r+\")"
   ]
  },
  {
   "cell_type": "code",
   "execution_count": 2,
   "id": "5e244ef8",
   "metadata": {},
   "outputs": [
    {
     "name": "stdout",
     "output_type": "stream",
     "text": [
      "Lorem ipsum dolor sit amet, consectetur adipiscing elit. Vivamus condimentum sagittis lacus, laoreet\n"
     ]
    }
   ],
   "source": [
    "print(text.read(100))"
   ]
  },
  {
   "cell_type": "code",
   "execution_count": 3,
   "id": "fe413ed6",
   "metadata": {},
   "outputs": [
    {
     "name": "stdout",
     "output_type": "stream",
     "text": [
      " luctus ligula laoreet ut. Vestibulum ullamcorper accumsan velit vel vehicula. Proin tempor lacus ar\n"
     ]
    }
   ],
   "source": [
    "print(text.readline(100))"
   ]
  },
  {
   "cell_type": "code",
   "execution_count": null,
   "id": "67de3e23",
   "metadata": {},
   "outputs": [],
   "source": []
  }
 ],
 "metadata": {
  "kernelspec": {
   "display_name": "Python 3 (ipykernel)",
   "language": "python",
   "name": "python3"
  },
  "language_info": {
   "codemirror_mode": {
    "name": "ipython",
    "version": 3
   },
   "file_extension": ".py",
   "mimetype": "text/x-python",
   "name": "python",
   "nbconvert_exporter": "python",
   "pygments_lexer": "ipython3",
   "version": "3.9.7"
  }
 },
 "nbformat": 4,
 "nbformat_minor": 5
}
